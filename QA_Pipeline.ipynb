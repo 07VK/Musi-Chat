{
  "nbformat": 4,
  "nbformat_minor": 0,
  "metadata": {
    "colab": {
      "provenance": [],
      "gpuType": "T4"
    },
    "kernelspec": {
      "name": "python3",
      "display_name": "Python 3"
    },
    "language_info": {
      "name": "python"
    },
    "accelerator": "GPU",
    "widgets": {
      "application/vnd.jupyter.widget-state+json": {
        "cef01ec363194ad0918e70a12c785593": {
          "model_module": "@jupyter-widgets/controls",
          "model_name": "HBoxModel",
          "model_module_version": "1.5.0",
          "state": {
            "_dom_classes": [],
            "_model_module": "@jupyter-widgets/controls",
            "_model_module_version": "1.5.0",
            "_model_name": "HBoxModel",
            "_view_count": null,
            "_view_module": "@jupyter-widgets/controls",
            "_view_module_version": "1.5.0",
            "_view_name": "HBoxView",
            "box_style": "",
            "children": [
              "IPY_MODEL_a8d89117100044f8b4d0dcc3a0e162eb",
              "IPY_MODEL_3d63a268d39e463e9d6cd86b2e86d901",
              "IPY_MODEL_c86fd9ac93e547b4b78488f5a13c1fc9"
            ],
            "layout": "IPY_MODEL_7800ca88f8c74e01b896671f7e07fbc6"
          }
        },
        "a8d89117100044f8b4d0dcc3a0e162eb": {
          "model_module": "@jupyter-widgets/controls",
          "model_name": "HTMLModel",
          "model_module_version": "1.5.0",
          "state": {
            "_dom_classes": [],
            "_model_module": "@jupyter-widgets/controls",
            "_model_module_version": "1.5.0",
            "_model_name": "HTMLModel",
            "_view_count": null,
            "_view_module": "@jupyter-widgets/controls",
            "_view_module_version": "1.5.0",
            "_view_name": "HTMLView",
            "description": "",
            "description_tooltip": null,
            "layout": "IPY_MODEL_e25c1716ee594c15ab5f5e02d7a4f22b",
            "placeholder": "​",
            "style": "IPY_MODEL_73a8b156f7594620b2c684540473b5f1",
            "value": "Batches: 100%"
          }
        },
        "3d63a268d39e463e9d6cd86b2e86d901": {
          "model_module": "@jupyter-widgets/controls",
          "model_name": "FloatProgressModel",
          "model_module_version": "1.5.0",
          "state": {
            "_dom_classes": [],
            "_model_module": "@jupyter-widgets/controls",
            "_model_module_version": "1.5.0",
            "_model_name": "FloatProgressModel",
            "_view_count": null,
            "_view_module": "@jupyter-widgets/controls",
            "_view_module_version": "1.5.0",
            "_view_name": "ProgressView",
            "bar_style": "success",
            "description": "",
            "description_tooltip": null,
            "layout": "IPY_MODEL_3046c232580447a98eb96bb84c026bed",
            "max": 3338,
            "min": 0,
            "orientation": "horizontal",
            "style": "IPY_MODEL_5ec2c3412a0c41ad8d06572cc164eba2",
            "value": 3338
          }
        },
        "c86fd9ac93e547b4b78488f5a13c1fc9": {
          "model_module": "@jupyter-widgets/controls",
          "model_name": "HTMLModel",
          "model_module_version": "1.5.0",
          "state": {
            "_dom_classes": [],
            "_model_module": "@jupyter-widgets/controls",
            "_model_module_version": "1.5.0",
            "_model_name": "HTMLModel",
            "_view_count": null,
            "_view_module": "@jupyter-widgets/controls",
            "_view_module_version": "1.5.0",
            "_view_name": "HTMLView",
            "description": "",
            "description_tooltip": null,
            "layout": "IPY_MODEL_ff5ab45a98654ab8b21ea0c9cdb3c791",
            "placeholder": "​",
            "style": "IPY_MODEL_20f48879f2084924a850bbb3de20d808",
            "value": " 3338/3338 [13:21&lt;00:00, 17.43it/s]"
          }
        },
        "7800ca88f8c74e01b896671f7e07fbc6": {
          "model_module": "@jupyter-widgets/base",
          "model_name": "LayoutModel",
          "model_module_version": "1.2.0",
          "state": {
            "_model_module": "@jupyter-widgets/base",
            "_model_module_version": "1.2.0",
            "_model_name": "LayoutModel",
            "_view_count": null,
            "_view_module": "@jupyter-widgets/base",
            "_view_module_version": "1.2.0",
            "_view_name": "LayoutView",
            "align_content": null,
            "align_items": null,
            "align_self": null,
            "border": null,
            "bottom": null,
            "display": null,
            "flex": null,
            "flex_flow": null,
            "grid_area": null,
            "grid_auto_columns": null,
            "grid_auto_flow": null,
            "grid_auto_rows": null,
            "grid_column": null,
            "grid_gap": null,
            "grid_row": null,
            "grid_template_areas": null,
            "grid_template_columns": null,
            "grid_template_rows": null,
            "height": null,
            "justify_content": null,
            "justify_items": null,
            "left": null,
            "margin": null,
            "max_height": null,
            "max_width": null,
            "min_height": null,
            "min_width": null,
            "object_fit": null,
            "object_position": null,
            "order": null,
            "overflow": null,
            "overflow_x": null,
            "overflow_y": null,
            "padding": null,
            "right": null,
            "top": null,
            "visibility": null,
            "width": null
          }
        },
        "e25c1716ee594c15ab5f5e02d7a4f22b": {
          "model_module": "@jupyter-widgets/base",
          "model_name": "LayoutModel",
          "model_module_version": "1.2.0",
          "state": {
            "_model_module": "@jupyter-widgets/base",
            "_model_module_version": "1.2.0",
            "_model_name": "LayoutModel",
            "_view_count": null,
            "_view_module": "@jupyter-widgets/base",
            "_view_module_version": "1.2.0",
            "_view_name": "LayoutView",
            "align_content": null,
            "align_items": null,
            "align_self": null,
            "border": null,
            "bottom": null,
            "display": null,
            "flex": null,
            "flex_flow": null,
            "grid_area": null,
            "grid_auto_columns": null,
            "grid_auto_flow": null,
            "grid_auto_rows": null,
            "grid_column": null,
            "grid_gap": null,
            "grid_row": null,
            "grid_template_areas": null,
            "grid_template_columns": null,
            "grid_template_rows": null,
            "height": null,
            "justify_content": null,
            "justify_items": null,
            "left": null,
            "margin": null,
            "max_height": null,
            "max_width": null,
            "min_height": null,
            "min_width": null,
            "object_fit": null,
            "object_position": null,
            "order": null,
            "overflow": null,
            "overflow_x": null,
            "overflow_y": null,
            "padding": null,
            "right": null,
            "top": null,
            "visibility": null,
            "width": null
          }
        },
        "73a8b156f7594620b2c684540473b5f1": {
          "model_module": "@jupyter-widgets/controls",
          "model_name": "DescriptionStyleModel",
          "model_module_version": "1.5.0",
          "state": {
            "_model_module": "@jupyter-widgets/controls",
            "_model_module_version": "1.5.0",
            "_model_name": "DescriptionStyleModel",
            "_view_count": null,
            "_view_module": "@jupyter-widgets/base",
            "_view_module_version": "1.2.0",
            "_view_name": "StyleView",
            "description_width": ""
          }
        },
        "3046c232580447a98eb96bb84c026bed": {
          "model_module": "@jupyter-widgets/base",
          "model_name": "LayoutModel",
          "model_module_version": "1.2.0",
          "state": {
            "_model_module": "@jupyter-widgets/base",
            "_model_module_version": "1.2.0",
            "_model_name": "LayoutModel",
            "_view_count": null,
            "_view_module": "@jupyter-widgets/base",
            "_view_module_version": "1.2.0",
            "_view_name": "LayoutView",
            "align_content": null,
            "align_items": null,
            "align_self": null,
            "border": null,
            "bottom": null,
            "display": null,
            "flex": null,
            "flex_flow": null,
            "grid_area": null,
            "grid_auto_columns": null,
            "grid_auto_flow": null,
            "grid_auto_rows": null,
            "grid_column": null,
            "grid_gap": null,
            "grid_row": null,
            "grid_template_areas": null,
            "grid_template_columns": null,
            "grid_template_rows": null,
            "height": null,
            "justify_content": null,
            "justify_items": null,
            "left": null,
            "margin": null,
            "max_height": null,
            "max_width": null,
            "min_height": null,
            "min_width": null,
            "object_fit": null,
            "object_position": null,
            "order": null,
            "overflow": null,
            "overflow_x": null,
            "overflow_y": null,
            "padding": null,
            "right": null,
            "top": null,
            "visibility": null,
            "width": null
          }
        },
        "5ec2c3412a0c41ad8d06572cc164eba2": {
          "model_module": "@jupyter-widgets/controls",
          "model_name": "ProgressStyleModel",
          "model_module_version": "1.5.0",
          "state": {
            "_model_module": "@jupyter-widgets/controls",
            "_model_module_version": "1.5.0",
            "_model_name": "ProgressStyleModel",
            "_view_count": null,
            "_view_module": "@jupyter-widgets/base",
            "_view_module_version": "1.2.0",
            "_view_name": "StyleView",
            "bar_color": null,
            "description_width": ""
          }
        },
        "ff5ab45a98654ab8b21ea0c9cdb3c791": {
          "model_module": "@jupyter-widgets/base",
          "model_name": "LayoutModel",
          "model_module_version": "1.2.0",
          "state": {
            "_model_module": "@jupyter-widgets/base",
            "_model_module_version": "1.2.0",
            "_model_name": "LayoutModel",
            "_view_count": null,
            "_view_module": "@jupyter-widgets/base",
            "_view_module_version": "1.2.0",
            "_view_name": "LayoutView",
            "align_content": null,
            "align_items": null,
            "align_self": null,
            "border": null,
            "bottom": null,
            "display": null,
            "flex": null,
            "flex_flow": null,
            "grid_area": null,
            "grid_auto_columns": null,
            "grid_auto_flow": null,
            "grid_auto_rows": null,
            "grid_column": null,
            "grid_gap": null,
            "grid_row": null,
            "grid_template_areas": null,
            "grid_template_columns": null,
            "grid_template_rows": null,
            "height": null,
            "justify_content": null,
            "justify_items": null,
            "left": null,
            "margin": null,
            "max_height": null,
            "max_width": null,
            "min_height": null,
            "min_width": null,
            "object_fit": null,
            "object_position": null,
            "order": null,
            "overflow": null,
            "overflow_x": null,
            "overflow_y": null,
            "padding": null,
            "right": null,
            "top": null,
            "visibility": null,
            "width": null
          }
        },
        "20f48879f2084924a850bbb3de20d808": {
          "model_module": "@jupyter-widgets/controls",
          "model_name": "DescriptionStyleModel",
          "model_module_version": "1.5.0",
          "state": {
            "_model_module": "@jupyter-widgets/controls",
            "_model_module_version": "1.5.0",
            "_model_name": "DescriptionStyleModel",
            "_view_count": null,
            "_view_module": "@jupyter-widgets/base",
            "_view_module_version": "1.2.0",
            "_view_name": "StyleView",
            "description_width": ""
          }
        }
      }
    }
  },
  "cells": [
    {
      "cell_type": "code",
      "execution_count": null,
      "metadata": {
        "id": "aR7mhiR3WL1i"
      },
      "outputs": [],
      "source": [
        "!pip install --quiet sentence-transformers faiss-cpu transformers langchain langchain-ollama langchain_community ollama fastapi uvicorn python-multipart nest-asyncio pyngrok requests langchain-huggingface"
      ]
    },
    {
      "cell_type": "code",
      "source": [
        "from google.colab import drive\n",
        "drive.mount('/content/drive')"
      ],
      "metadata": {
        "colab": {
          "base_uri": "https://localhost:8080/"
        },
        "id": "aNrTN0OdnUI4",
        "outputId": "56312742-eadb-4c04-d8b7-a36ae668bcc0"
      },
      "execution_count": null,
      "outputs": [
        {
          "output_type": "stream",
          "name": "stdout",
          "text": [
            "Drive already mounted at /content/drive; to attempt to forcibly remount, call drive.mount(\"/content/drive\", force_remount=True).\n"
          ]
        }
      ]
    },
    {
      "cell_type": "code",
      "source": [
        "import json\n",
        "# adjust this path to wherever your unified JSON IS\n",
        "INPUT_JSON = '/content/drive/MyDrive/AmazonReviews/final_dataset.json'\n",
        "\n",
        "with open(INPUT_JSON, 'r') as f:\n",
        "    data = json.load(f)\n",
        "\n",
        "print(f\"Loaded {len(data)} products\")"
      ],
      "metadata": {
        "colab": {
          "base_uri": "https://localhost:8080/"
        },
        "id": "lYX_VXaNW4ZW",
        "outputId": "3e0e1d94-936f-421e-8780-4c8540946659"
      },
      "execution_count": null,
      "outputs": [
        {
          "output_type": "stream",
          "name": "stdout",
          "text": [
            "Drive already mounted at /content/drive; to attempt to forcibly remount, call drive.mount(\"/content/drive\", force_remount=True).\n",
            "Loaded 213593 products\n"
          ]
        }
      ]
    },
    {
      "cell_type": "code",
      "source": [
        "def make_doc_text(prod):\n",
        "    parts = []\n",
        "    parts.append(f\"Title: {prod.get('title','')}\")\n",
        "    parts.append(f\"Category: {prod.get('main_category','')}\")\n",
        "    parts.append(\n",
        "        f\"Overall sentiment: {prod.get('overall_sentiment','unknown')} \"\n",
        "        f\"(avg rating {prod.get('average_rating','N/A')})\"\n",
        "    )\n",
        "    parts.append(\"Features: \" + \". \".join(prod.get('features', [])))\n",
        "    parts.append(\"Description: \" + \" \".join(prod.get('description', [])))\n",
        "    # Details\n",
        "    detail_items = prod.get('details', {})\n",
        "    if isinstance(detail_items, dict):\n",
        "        detail_str = \"; \".join(f\"{k}: {v}\" for k, v in detail_items.items())\n",
        "        parts.append(\"Details: \" + detail_str)\n",
        "    # Sample up to 5 reviews\n",
        "    for r in prod.get('reviews', [])[:5]:\n",
        "        label = r.get('bert_sentiment', {}).get('label', r.get('sentiment','unknown'))\n",
        "        txt   = r.get('cleaned_text', '')\n",
        "        parts.append(f\"Review ({label}): {txt}\")\n",
        "    # Named entities\n",
        "    ents = prod.get('named_entities', [])\n",
        "    ent_str = \", \".join(e for e, _ in ents)\n",
        "    parts.append(\"Entities: \" + ent_str)\n",
        "    return \"\\n\".join(parts)\n",
        "\n",
        "# Now build your docs list safely:\n",
        "docs = []\n",
        "for i, prod in enumerate(data, 1):\n",
        "    try:\n",
        "        docs.append(make_doc_text(prod))\n",
        "    except Exception as e:\n",
        "        print(f\"Error building doc for product {i}: {e}\")\n",
        "        docs.append(\"\")  # fallback empty\n",
        "print(\"Built\", len(docs), \"document texts; sample:\\n\", docs[0], \"…\")"
      ],
      "metadata": {
        "colab": {
          "base_uri": "https://localhost:8080/"
        },
        "id": "srj2Yx4kaVN0",
        "outputId": "19381c6e-2d2d-469c-cccf-dfd46ec11c55"
      },
      "execution_count": null,
      "outputs": [
        {
          "output_type": "stream",
          "name": "stdout",
          "text": [
            "Built 213593 document texts; sample:\n",
            " Title: Pearl Export Lacquer EXL725S/C249 5-Piece New Fusion Drum Set with Hardware, Honey Amber\n",
            "Category: Musical Instruments\n",
            "Overall sentiment: positive (avg rating 4.2)\n",
            "Features: Item may ship in more than one box and may arrive separately. (22x18, 10x7, 12x8, 16x16, 14x5.5). P930 Demonator Pedal. 830 Hardware Pack. Matching snare, REMO snare batter side head\n",
            "Description: Introducing the best selling drum set of all time... Export Series returns and this time with a lacquer finish. EXL Export Lacquer Series incorporates Pearl's S.S.T. Superior Shell Technology, Opti-Loc tom mounts, all-new 830 Series Hardware with a P-930 Pedal, and a choice of three amazing stocking finishes.\n",
            "Details: Item Weight: 33 pounds; Product Dimensions: 22 x 22 x 20 inches; Item model number: EXL725S/C249; Best Sellers Rank: {'Musical Instruments': 150300, 'Drum Sets': 521}; Date First Available: April 4, 2014; Color Name: Honey Amber; Material Type: Pearl; Size: -inch; Color: Honey Amber; Brand: Pearl; Material: Pearl; Model Name: EXL725S; Item Dimensions LxWxH: 22 x 22 x 20 inches\n",
            "Review (positive): great. even better than expected ..\n",
            "Review (negative): disappointed drums came with out the hardware and bass drum hooks and claws.\n",
            "Review (positive): from rickrs on september 1, 2017love them!beginner drummer, so my experience is limited. that said, this kit is great! three months after and i have zero regards. honey amber lacquer is a beautiful looking set of drums. and to me, they sound great. included hardware quality is impressive. nothing about about the hardware seems flimsy. wife (who is going to learn drums, as well) likes the look enough that she insisted they go in the living room instead of the spare bedroom as i had planned.i got what i expected and what was in the description; five drums, bass drum pedal, high hat stand, and two cymbal stands. the kit does not include a drum throne, and it does not include cymbals. some concerns from other reviews where they only got five drums and no hardware. i believe those were all orders from sam ash music; they were lowest price, but checking samash dot com, i could see that the price for pearl export exl drum shell kit (drums only, no hardware) at the sam ash website was same as what was shown on amazon as drums + hardware. and a few review were clear that sam ash told them after the fact they were only providing a drum shell kit. so i stayed away from the drums listed from sam ash and got my drums direct from amazonif just starting out, for the cymbals i would suggest wuhan wutbsu western style cymbal set with cymbal bag. others pointed me to them, as best value in the $200-$350 range. [[asin:b0002d0ho4 wuhan wutbsu western style cymbal set with cymbal bag]]you will have to install heads on the bass drum, and set up the hardware, but that's all. other drums are ready to go. i got a drumdial to tune the kit with, only to find it wasn't really necessary; toms were tuned perfectly from the factory, snare was a little low, but no enough to count. a help for anyone unpacking and setting up is on youtube. look for &#34;pearl drums export kit set up (inside music) with adrian violi&#34;. just don't worry about tuning every drum head as described in the video unless it sounds really off, it may be fine from the factory.lastly, it's common to get a bit of a resonant effect in the drums with the quality of drumheads. slapklatz damper gel is a very quick fix for that. [[asin:b01c44j2wq slapklatz pro - big 10 pack of drum damper gel pads - clear]]\n",
            "Review (positive): it was easy to install and sounds pretty good.\n",
            "Review (positive): i've never owned a drum set before, but this one has very good tone and action as far as i can tell, the cymbal stands and hardware are of very good quality and work nicely...this set is very attractive to the eye, nicer than a beginner set, as the price suggests..not top of the line, but certainly a very good quality set...i'm very happy with my purchase...\n",
            "Entities: 5, exl export lacquer series, s.s.t, 830, three, 33 pounds 22, 22, 20 inches, 150300, 521, april 4, 2014, pearl -inch honey, pearl pearl, 22, 20 inches …\n"
          ]
        }
      ]
    },
    {
      "cell_type": "code",
      "source": [
        "# 2.1: Import & load your documents\n",
        "from sentence_transformers import SentenceTransformer\n",
        "import numpy as np\n",
        "\n",
        "# Assuming you already have `docs` as a list of strings\n",
        "# e.g. docs = [make_doc_text(p) for p in data]\n",
        "\n",
        "print(\"Number of docs to embed:\", len(docs))\n",
        "\n",
        "# 2.2: Load the model and compute embeddings\n",
        "embedder = SentenceTransformer(\"all-MiniLM-L6-v2\")\n",
        "embeddings = embedder.encode(\n",
        "    docs,\n",
        "    batch_size=64,\n",
        "    convert_to_numpy=True,\n",
        "    show_progress_bar=True\n",
        ")\n",
        "\n",
        "print(\"Computed embeddings shape:\", embeddings.shape)\n",
        "\n",
        "# 2.3: Save embeddings to disk (Colab working dir or Drive)\n",
        "# np.save(\"embeddings.npy\", embeddings)\n",
        "# or to Google Drive:\n",
        "np.save(\"/content/drive/MyDrive/AmazonReviews/embeddings.npy\", embeddings)\n",
        "\n",
        "print(\"Embeddings saved to embeddings.npy\")"
      ],
      "metadata": {
        "colab": {
          "base_uri": "https://localhost:8080/",
          "height": 101,
          "referenced_widgets": [
            "cef01ec363194ad0918e70a12c785593",
            "a8d89117100044f8b4d0dcc3a0e162eb",
            "3d63a268d39e463e9d6cd86b2e86d901",
            "c86fd9ac93e547b4b78488f5a13c1fc9",
            "7800ca88f8c74e01b896671f7e07fbc6",
            "e25c1716ee594c15ab5f5e02d7a4f22b",
            "73a8b156f7594620b2c684540473b5f1",
            "3046c232580447a98eb96bb84c026bed",
            "5ec2c3412a0c41ad8d06572cc164eba2",
            "ff5ab45a98654ab8b21ea0c9cdb3c791",
            "20f48879f2084924a850bbb3de20d808"
          ]
        },
        "id": "OIJVts7PfXse",
        "outputId": "36a0a5c4-d933-4ce0-d6e3-5e58ece30c0c"
      },
      "execution_count": null,
      "outputs": [
        {
          "output_type": "stream",
          "name": "stdout",
          "text": [
            "Number of docs to embed: 213593\n"
          ]
        },
        {
          "output_type": "display_data",
          "data": {
            "text/plain": [
              "Batches:   0%|          | 0/3338 [00:00<?, ?it/s]"
            ],
            "application/vnd.jupyter.widget-view+json": {
              "version_major": 2,
              "version_minor": 0,
              "model_id": "cef01ec363194ad0918e70a12c785593"
            }
          },
          "metadata": {}
        },
        {
          "output_type": "stream",
          "name": "stdout",
          "text": [
            "Computed embeddings shape: (213593, 384)\n",
            "Embeddings saved to embeddings.npy\n"
          ]
        }
      ]
    },
    {
      "cell_type": "code",
      "source": [
        "import numpy as np\n",
        "\n",
        "# 3.1: Load the embeddings back\n",
        "# embeddings = np.load(\"embeddings.npy\")\n",
        "# or from Drive:\n",
        "embeddings = np.load(\"/content/drive/MyDrive/AmazonReviews/embeddings.npy\")\n",
        "\n",
        "# 3.2: Verify shape\n",
        "print(\"Reloaded embeddings shape:\", embeddings.shape)"
      ],
      "metadata": {
        "colab": {
          "base_uri": "https://localhost:8080/"
        },
        "id": "bL_CkXd969x4",
        "outputId": "0cab0088-7ff5-43dc-8012-7b22958d8d4a"
      },
      "execution_count": null,
      "outputs": [
        {
          "output_type": "stream",
          "name": "stdout",
          "text": [
            "Reloaded embeddings shape: (213593, 384)\n"
          ]
        }
      ]
    },
    {
      "cell_type": "code",
      "source": [
        "import faiss\n",
        "import numpy as np\n",
        "\n",
        "# Load and normalize embeddings\n",
        "embeddings = embeddings / np.linalg.norm(embeddings, axis=1, keepdims=True)\n",
        "\n",
        "# Create HNSW index\n",
        "d = embeddings.shape[1]\n",
        "index = faiss.IndexHNSWFlat(d, 32)  # 32 links per vector\n",
        "index.hnsw.efConstruction = 200  # Better accuracy\n",
        "index.hnsw.efSearch = 64  # Balance speed and accuracy\n",
        "\n",
        "# Add embeddings\n",
        "index.add(embeddings)\n",
        "print(\"FAISS HNSW index ntotal:\", index.ntotal)\n",
        "\n",
        "# Save to Drive\n",
        "faiss.write_index(index, \"/content/drive/MyDrive/AmazonReviews/products_hnsw.index\")\n",
        "print(\"FAISS index saved to products_hnsw.index\")"
      ],
      "metadata": {
        "colab": {
          "base_uri": "https://localhost:8080/",
          "height": 211
        },
        "id": "eVBdr4sT7D7J",
        "outputId": "07691ccf-93ba-4601-9bba-8bc52043324b",
        "collapsed": true
      },
      "execution_count": null,
      "outputs": [
        {
          "output_type": "error",
          "ename": "NameError",
          "evalue": "name 'embeddings' is not defined",
          "traceback": [
            "\u001b[0;31m---------------------------------------------------------------------------\u001b[0m",
            "\u001b[0;31mNameError\u001b[0m                                 Traceback (most recent call last)",
            "\u001b[0;32m<ipython-input-4-0d1bca34ceae>\u001b[0m in \u001b[0;36m<cell line: 0>\u001b[0;34m()\u001b[0m\n\u001b[1;32m      3\u001b[0m \u001b[0;34m\u001b[0m\u001b[0m\n\u001b[1;32m      4\u001b[0m \u001b[0;31m# Load and normalize embeddings\u001b[0m\u001b[0;34m\u001b[0m\u001b[0;34m\u001b[0m\u001b[0m\n\u001b[0;32m----> 5\u001b[0;31m \u001b[0membeddings\u001b[0m \u001b[0;34m=\u001b[0m \u001b[0membeddings\u001b[0m \u001b[0;34m/\u001b[0m \u001b[0mnp\u001b[0m\u001b[0;34m.\u001b[0m\u001b[0mlinalg\u001b[0m\u001b[0;34m.\u001b[0m\u001b[0mnorm\u001b[0m\u001b[0;34m(\u001b[0m\u001b[0membeddings\u001b[0m\u001b[0;34m,\u001b[0m \u001b[0maxis\u001b[0m\u001b[0;34m=\u001b[0m\u001b[0;36m1\u001b[0m\u001b[0;34m,\u001b[0m \u001b[0mkeepdims\u001b[0m\u001b[0;34m=\u001b[0m\u001b[0;32mTrue\u001b[0m\u001b[0;34m)\u001b[0m\u001b[0;34m\u001b[0m\u001b[0;34m\u001b[0m\u001b[0m\n\u001b[0m\u001b[1;32m      6\u001b[0m \u001b[0;34m\u001b[0m\u001b[0m\n\u001b[1;32m      7\u001b[0m \u001b[0;31m# Create HNSW index\u001b[0m\u001b[0;34m\u001b[0m\u001b[0;34m\u001b[0m\u001b[0m\n",
            "\u001b[0;31mNameError\u001b[0m: name 'embeddings' is not defined"
          ]
        }
      ]
    },
    {
      "cell_type": "code",
      "source": [
        "import faiss\n",
        "\n",
        "# 4.1: Reload the HNSW index\n",
        "# idx = faiss.read_index(\"products.index\")\n",
        "# or from Drive:\n",
        "idx = faiss.read_index(\"/content/drive/MyDrive/AmazonReviews/products_hnsw.index\")\n",
        "\n",
        "# 4.2: Inspect properties\n",
        "print(\"Re-loaded FAISS index ntotal:\", idx.ntotal)\n",
        "print(\"Index dimension:\", idx.d)"
      ],
      "metadata": {
        "colab": {
          "base_uri": "https://localhost:8080/"
        },
        "id": "UknBBceP7Pyz",
        "outputId": "02e78e71-a601-426d-aea6-fedfd3b32c14"
      },
      "execution_count": null,
      "outputs": [
        {
          "output_type": "stream",
          "name": "stdout",
          "text": [
            "Re-loaded FAISS index ntotal: 213593\n",
            "Index dimension: 384\n"
          ]
        }
      ]
    },
    {
      "cell_type": "code",
      "source": [
        "import pickle\n",
        "import os\n",
        "\n",
        "# Path where you want to save the pickle\n",
        "PICKLE_PATH = \"/content/drive/MyDrive/AmazonReviews/products.pkl\" # or \"products.pkl\"\n",
        "\n",
        "# Bundle docs and metadata into one dict\n",
        "store = {\n",
        "    \"docs\": docs,  # list of document strings\n",
        "    \"meta\": data   # original JSON‑loaded list of product dicts\n",
        "}\n",
        "\n",
        "# Write to disk\n",
        "with open(PICKLE_PATH, \"wb\") as f:\n",
        "    pickle.dump(store, f)\n",
        "\n",
        "# Optional: confirm file size\n",
        "print(\"Saved pickle:\", PICKLE_PATH)\n",
        "print(\"Size:\", os.path.getsize(PICKLE_PATH) / (1024*1024), \"MB\")"
      ],
      "metadata": {
        "colab": {
          "base_uri": "https://localhost:8080/"
        },
        "id": "Tv-kGiNU7U7H",
        "outputId": "9dca0f7b-e3de-4fd7-b1e3-88b92315fb20"
      },
      "execution_count": null,
      "outputs": [
        {
          "output_type": "stream",
          "name": "stdout",
          "text": [
            "Saved pickle: /content/drive/MyDrive/AmazonReviews/products.pkl\n",
            "Size: 1886.905634880066 MB\n"
          ]
        }
      ]
    },
    {
      "cell_type": "code",
      "source": [
        "import pickle\n",
        "\n",
        "PICKLE_PATH = \"/content/drive/MyDrive/AmazonReviews/products.pkl\"  # same path as above\n",
        "\n",
        "# Load from disk\n",
        "with open(PICKLE_PATH, \"rb\") as f:\n",
        "    store = pickle.load(f)\n",
        "\n",
        "\n",
        "print(\"Pickle keys:\", list(store.keys()))\n",
        "\n",
        "# Unpack\n",
        "docs = store[\"docs\"]\n",
        "data = store[\"meta\"]\n",
        "\n",
        "# Quick sanity check\n",
        "print(\"Loaded docs count:\", len(docs))\n",
        "print(\"Loaded meta entries:\", len(data))"
      ],
      "metadata": {
        "colab": {
          "base_uri": "https://localhost:8080/"
        },
        "id": "5qKxFiQ_8GJD",
        "outputId": "7ec907eb-0d88-438f-deac-b259f7f5d9a1"
      },
      "execution_count": null,
      "outputs": [
        {
          "output_type": "stream",
          "name": "stdout",
          "text": [
            "Pickle keys: ['docs', 'meta']\n",
            "Loaded docs count: 213593\n",
            "Loaded meta entries: 213593\n"
          ]
        }
      ]
    },
    {
      "cell_type": "code",
      "source": [
        "!sudo apt update\n",
        "!sudo apt install -y pciutils\n",
        "!curl -fsSL https://ollama.com/install.sh | sh\n",
        "!pip install langchain-ollama ollama langchain langchain_community"
      ],
      "metadata": {
        "colab": {
          "base_uri": "https://localhost:8080/"
        },
        "id": "6HYHkxng8s3V",
        "outputId": "37780110-6a4c-458f-e87f-b1a23576845a"
      },
      "execution_count": null,
      "outputs": [
        {
          "output_type": "stream",
          "name": "stdout",
          "text": [
            "\u001b[33m\r0% [Working]\u001b[0m\r            \rHit:1 https://cloud.r-project.org/bin/linux/ubuntu jammy-cran40/ InRelease\n",
            "Hit:2 https://developer.download.nvidia.com/compute/cuda/repos/ubuntu2204/x86_64  InRelease\n",
            "Get:3 http://security.ubuntu.com/ubuntu jammy-security InRelease [129 kB]\n",
            "Hit:4 http://archive.ubuntu.com/ubuntu jammy InRelease\n",
            "Get:5 http://archive.ubuntu.com/ubuntu jammy-updates InRelease [128 kB]\n",
            "Hit:6 https://ppa.launchpadcontent.net/deadsnakes/ppa/ubuntu jammy InRelease\n",
            "Hit:7 https://ppa.launchpadcontent.net/graphics-drivers/ppa/ubuntu jammy InRelease\n",
            "Hit:8 https://r2u.stat.illinois.edu/ubuntu jammy InRelease\n",
            "Hit:9 https://ppa.launchpadcontent.net/ubuntugis/ppa/ubuntu jammy InRelease\n",
            "Hit:10 http://archive.ubuntu.com/ubuntu jammy-backports InRelease\n",
            "Get:11 http://archive.ubuntu.com/ubuntu jammy-updates/universe amd64 Packages [1,543 kB]\n",
            "Get:12 http://archive.ubuntu.com/ubuntu jammy-updates/main amd64 Packages [3,154 kB]\n",
            "Fetched 4,954 kB in 4s (1,403 kB/s)\n",
            "Reading package lists... Done\n",
            "Building dependency tree... Done\n",
            "Reading state information... Done\n",
            "37 packages can be upgraded. Run 'apt list --upgradable' to see them.\n",
            "\u001b[1;33mW: \u001b[0mSkipping acquire of configured file 'main/source/Sources' as repository 'https://r2u.stat.illinois.edu/ubuntu jammy InRelease' does not seem to provide it (sources.list entry misspelt?)\u001b[0m\n",
            "Reading package lists... Done\n",
            "Building dependency tree... Done\n",
            "Reading state information... Done\n",
            "pciutils is already the newest version (1:3.7.0-6).\n",
            "0 upgraded, 0 newly installed, 0 to remove and 37 not upgraded.\n",
            ">>> Cleaning up old version at /usr/local/lib/ollama\n",
            ">>> Installing ollama to /usr/local\n",
            ">>> Downloading Linux amd64 bundle\n",
            "######################################################################## 100.0%\n",
            ">>> Adding ollama user to video group...\n",
            ">>> Adding current user to ollama group...\n",
            ">>> Creating ollama systemd service...\n",
            "\u001b[1m\u001b[31mWARNING:\u001b[m systemd is not running\n",
            ">>> NVIDIA GPU installed.\n",
            ">>> The Ollama API is now available at 127.0.0.1:11434.\n",
            ">>> Install complete. Run \"ollama\" from the command line.\n",
            "Requirement already satisfied: langchain-ollama in /usr/local/lib/python3.11/dist-packages (0.3.2)\n",
            "Requirement already satisfied: ollama in /usr/local/lib/python3.11/dist-packages (0.4.8)\n",
            "Requirement already satisfied: langchain in /usr/local/lib/python3.11/dist-packages (0.3.24)\n",
            "Requirement already satisfied: langchain_community in /usr/local/lib/python3.11/dist-packages (0.3.22)\n",
            "Requirement already satisfied: langchain-core<1.0.0,>=0.3.52 in /usr/local/lib/python3.11/dist-packages (from langchain-ollama) (0.3.55)\n",
            "Requirement already satisfied: httpx<0.29,>=0.27 in /usr/local/lib/python3.11/dist-packages (from ollama) (0.28.1)\n",
            "Requirement already satisfied: pydantic<3.0.0,>=2.9.0 in /usr/local/lib/python3.11/dist-packages (from ollama) (2.11.3)\n",
            "Requirement already satisfied: langchain-text-splitters<1.0.0,>=0.3.8 in /usr/local/lib/python3.11/dist-packages (from langchain) (0.3.8)\n",
            "Requirement already satisfied: langsmith<0.4,>=0.1.17 in /usr/local/lib/python3.11/dist-packages (from langchain) (0.3.33)\n",
            "Requirement already satisfied: SQLAlchemy<3,>=1.4 in /usr/local/lib/python3.11/dist-packages (from langchain) (2.0.40)\n",
            "Requirement already satisfied: requests<3,>=2 in /usr/local/lib/python3.11/dist-packages (from langchain) (2.32.3)\n",
            "Requirement already satisfied: PyYAML>=5.3 in /usr/local/lib/python3.11/dist-packages (from langchain) (6.0.2)\n",
            "Requirement already satisfied: aiohttp<4.0.0,>=3.8.3 in /usr/local/lib/python3.11/dist-packages (from langchain_community) (3.11.15)\n",
            "Requirement already satisfied: tenacity!=8.4.0,<10,>=8.1.0 in /usr/local/lib/python3.11/dist-packages (from langchain_community) (9.1.2)\n",
            "Requirement already satisfied: dataclasses-json<0.7,>=0.5.7 in /usr/local/lib/python3.11/dist-packages (from langchain_community) (0.6.7)\n",
            "Requirement already satisfied: pydantic-settings<3.0.0,>=2.4.0 in /usr/local/lib/python3.11/dist-packages (from langchain_community) (2.9.1)\n",
            "Requirement already satisfied: httpx-sse<1.0.0,>=0.4.0 in /usr/local/lib/python3.11/dist-packages (from langchain_community) (0.4.0)\n",
            "Requirement already satisfied: numpy>=1.26.2 in /usr/local/lib/python3.11/dist-packages (from langchain_community) (2.0.2)\n",
            "Requirement already satisfied: aiohappyeyeballs>=2.3.0 in /usr/local/lib/python3.11/dist-packages (from aiohttp<4.0.0,>=3.8.3->langchain_community) (2.6.1)\n",
            "Requirement already satisfied: aiosignal>=1.1.2 in /usr/local/lib/python3.11/dist-packages (from aiohttp<4.0.0,>=3.8.3->langchain_community) (1.3.2)\n",
            "Requirement already satisfied: attrs>=17.3.0 in /usr/local/lib/python3.11/dist-packages (from aiohttp<4.0.0,>=3.8.3->langchain_community) (25.3.0)\n",
            "Requirement already satisfied: frozenlist>=1.1.1 in /usr/local/lib/python3.11/dist-packages (from aiohttp<4.0.0,>=3.8.3->langchain_community) (1.6.0)\n",
            "Requirement already satisfied: multidict<7.0,>=4.5 in /usr/local/lib/python3.11/dist-packages (from aiohttp<4.0.0,>=3.8.3->langchain_community) (6.4.3)\n",
            "Requirement already satisfied: propcache>=0.2.0 in /usr/local/lib/python3.11/dist-packages (from aiohttp<4.0.0,>=3.8.3->langchain_community) (0.3.1)\n",
            "Requirement already satisfied: yarl<2.0,>=1.17.0 in /usr/local/lib/python3.11/dist-packages (from aiohttp<4.0.0,>=3.8.3->langchain_community) (1.20.0)\n",
            "Requirement already satisfied: marshmallow<4.0.0,>=3.18.0 in /usr/local/lib/python3.11/dist-packages (from dataclasses-json<0.7,>=0.5.7->langchain_community) (3.26.1)\n",
            "Requirement already satisfied: typing-inspect<1,>=0.4.0 in /usr/local/lib/python3.11/dist-packages (from dataclasses-json<0.7,>=0.5.7->langchain_community) (0.9.0)\n",
            "Requirement already satisfied: anyio in /usr/local/lib/python3.11/dist-packages (from httpx<0.29,>=0.27->ollama) (4.9.0)\n",
            "Requirement already satisfied: certifi in /usr/local/lib/python3.11/dist-packages (from httpx<0.29,>=0.27->ollama) (2025.1.31)\n",
            "Requirement already satisfied: httpcore==1.* in /usr/local/lib/python3.11/dist-packages (from httpx<0.29,>=0.27->ollama) (1.0.8)\n",
            "Requirement already satisfied: idna in /usr/local/lib/python3.11/dist-packages (from httpx<0.29,>=0.27->ollama) (3.10)\n",
            "Requirement already satisfied: h11<0.15,>=0.13 in /usr/local/lib/python3.11/dist-packages (from httpcore==1.*->httpx<0.29,>=0.27->ollama) (0.14.0)\n",
            "Requirement already satisfied: jsonpatch<2.0,>=1.33 in /usr/local/lib/python3.11/dist-packages (from langchain-core<1.0.0,>=0.3.52->langchain-ollama) (1.33)\n",
            "Requirement already satisfied: packaging<25,>=23.2 in /usr/local/lib/python3.11/dist-packages (from langchain-core<1.0.0,>=0.3.52->langchain-ollama) (24.2)\n",
            "Requirement already satisfied: typing-extensions>=4.7 in /usr/local/lib/python3.11/dist-packages (from langchain-core<1.0.0,>=0.3.52->langchain-ollama) (4.13.2)\n",
            "Requirement already satisfied: orjson<4.0.0,>=3.9.14 in /usr/local/lib/python3.11/dist-packages (from langsmith<0.4,>=0.1.17->langchain) (3.10.16)\n",
            "Requirement already satisfied: requests-toolbelt<2.0.0,>=1.0.0 in /usr/local/lib/python3.11/dist-packages (from langsmith<0.4,>=0.1.17->langchain) (1.0.0)\n",
            "Requirement already satisfied: zstandard<0.24.0,>=0.23.0 in /usr/local/lib/python3.11/dist-packages (from langsmith<0.4,>=0.1.17->langchain) (0.23.0)\n",
            "Requirement already satisfied: annotated-types>=0.6.0 in /usr/local/lib/python3.11/dist-packages (from pydantic<3.0.0,>=2.9.0->ollama) (0.7.0)\n",
            "Requirement already satisfied: pydantic-core==2.33.1 in /usr/local/lib/python3.11/dist-packages (from pydantic<3.0.0,>=2.9.0->ollama) (2.33.1)\n",
            "Requirement already satisfied: typing-inspection>=0.4.0 in /usr/local/lib/python3.11/dist-packages (from pydantic<3.0.0,>=2.9.0->ollama) (0.4.0)\n",
            "Requirement already satisfied: python-dotenv>=0.21.0 in /usr/local/lib/python3.11/dist-packages (from pydantic-settings<3.0.0,>=2.4.0->langchain_community) (1.1.0)\n",
            "Requirement already satisfied: charset-normalizer<4,>=2 in /usr/local/lib/python3.11/dist-packages (from requests<3,>=2->langchain) (3.4.1)\n",
            "Requirement already satisfied: urllib3<3,>=1.21.1 in /usr/local/lib/python3.11/dist-packages (from requests<3,>=2->langchain) (2.3.0)\n",
            "Requirement already satisfied: greenlet>=1 in /usr/local/lib/python3.11/dist-packages (from SQLAlchemy<3,>=1.4->langchain) (3.2.1)\n",
            "Requirement already satisfied: jsonpointer>=1.9 in /usr/local/lib/python3.11/dist-packages (from jsonpatch<2.0,>=1.33->langchain-core<1.0.0,>=0.3.52->langchain-ollama) (3.0.0)\n",
            "Requirement already satisfied: mypy-extensions>=0.3.0 in /usr/local/lib/python3.11/dist-packages (from typing-inspect<1,>=0.4.0->dataclasses-json<0.7,>=0.5.7->langchain_community) (1.1.0)\n",
            "Requirement already satisfied: sniffio>=1.1 in /usr/local/lib/python3.11/dist-packages (from anyio->httpx<0.29,>=0.27->ollama) (1.3.1)\n"
          ]
        }
      ]
    },
    {
      "cell_type": "code",
      "source": [
        "import subprocess\n",
        "import time\n",
        "import threading\n",
        "\n",
        "def run_ollama():\n",
        "    subprocess.run([\"ollama\", \"serve\"])\n",
        "\n",
        "# Start Ollama in a daemon thread\n",
        "thread = threading.Thread(target=run_ollama, daemon=True)\n",
        "thread.start()\n",
        "time.sleep(5)  # Wait for Ollama to initialize"
      ],
      "metadata": {
        "id": "qrGW5yrp8spr"
      },
      "execution_count": null,
      "outputs": []
    },
    {
      "cell_type": "code",
      "source": [
        "!ollama pull phi"
      ],
      "metadata": {
        "colab": {
          "base_uri": "https://localhost:8080/"
        },
        "id": "i6OxOttJ2xiK",
        "outputId": "3ac618f5-168e-4f48-cc23-f694458b6d0d"
      },
      "execution_count": null,
      "outputs": [
        {
          "output_type": "stream",
          "name": "stdout",
          "text": [
            "\u001b[?2026h\u001b[?25l\u001b[1Gpulling manifest ⠋ \u001b[K\u001b[?25h\u001b[?2026l\u001b[?2026h\u001b[?25l\u001b[1Gpulling manifest ⠙ \u001b[K\u001b[?25h\u001b[?2026l\u001b[?2026h\u001b[?25l\u001b[1Gpulling manifest ⠹ \u001b[K\u001b[?25h\u001b[?2026l\u001b[?2026h\u001b[?25l\u001b[1Gpulling manifest ⠸ \u001b[K\u001b[?25h\u001b[?2026l\u001b[?2026h\u001b[?25l\u001b[1Gpulling manifest ⠼ \u001b[K\u001b[?25h\u001b[?2026l\u001b[?2026h\u001b[?25l\u001b[1Gpulling manifest ⠴ \u001b[K\u001b[?25h\u001b[?2026l\u001b[?2026h\u001b[?25l\u001b[1Gpulling manifest ⠦ \u001b[K\u001b[?25h\u001b[?2026l\u001b[?2026h\u001b[?25l\u001b[1Gpulling manifest ⠧ \u001b[K\u001b[?25h\u001b[?2026l\u001b[?2026h\u001b[?25l\u001b[1Gpulling manifest ⠇ \u001b[K\u001b[?25h\u001b[?2026l\u001b[?2026h\u001b[?25l\u001b[1Gpulling manifest ⠏ \u001b[K\u001b[?25h\u001b[?2026l\u001b[?2026h\u001b[?25l\u001b[1Gpulling manifest \u001b[K\n",
            "pulling 04778965089b: 100% ▕▏ 1.6 GB                         \u001b[K\n",
            "pulling 7908abcab772: 100% ▕▏ 1.0 KB                         \u001b[K\n",
            "pulling 774a15e6f1e5: 100% ▕▏   77 B                         \u001b[K\n",
            "pulling 3188becd6bae: 100% ▕▏  132 B                         \u001b[K\n",
            "pulling 0b8127ddf5ee: 100% ▕▏   42 B                         \u001b[K\n",
            "pulling 4ce4b16d33a3: 100% ▕▏  555 B                         \u001b[K\n",
            "verifying sha256 digest \u001b[K\n",
            "writing manifest \u001b[K\n",
            "success \u001b[K\u001b[?25h\u001b[?2026l\n"
          ]
        }
      ]
    },
    {
      "cell_type": "code",
      "source": [
        "from langchain.llms import Ollama\n",
        "\n",
        "llm = Ollama(\n",
        "    model=\"phi\",\n",
        "    base_url=\"http://localhost:11434\",\n",
        "    temperature=0.0,  # Deterministic responses\n",
        "    num_predict=200    # Limit output tokens\n",
        ")\n",
        "\n",
        "print(\"Ollama phi LLM is ready:\", llm)"
      ],
      "metadata": {
        "colab": {
          "base_uri": "https://localhost:8080/"
        },
        "id": "SeRl7-J0pHNS",
        "outputId": "37859959-b797-45b3-c7e0-63f4de3e5101"
      },
      "execution_count": null,
      "outputs": [
        {
          "output_type": "stream",
          "name": "stdout",
          "text": [
            "Ollama phi LLM is ready: \u001b[1mOllama\u001b[0m\n",
            "Params: {'model': 'phi', 'format': None, 'options': {'mirostat': None, 'mirostat_eta': None, 'mirostat_tau': None, 'num_ctx': None, 'num_gpu': None, 'num_thread': None, 'num_predict': 200, 'repeat_last_n': None, 'repeat_penalty': None, 'temperature': 0.0, 'stop': None, 'tfs_z': None, 'top_k': None, 'top_p': None}, 'system': None, 'template': None, 'keep_alive': None, 'raw': None}\n"
          ]
        },
        {
          "output_type": "stream",
          "name": "stderr",
          "text": [
            "<ipython-input-10-6f64d4d68b73>:3: LangChainDeprecationWarning: The class `Ollama` was deprecated in LangChain 0.3.1 and will be removed in 1.0.0. An updated version of the class exists in the :class:`~langchain-ollama package and should be used instead. To use it run `pip install -U :class:`~langchain-ollama` and import as `from :class:`~langchain_ollama import OllamaLLM``.\n",
            "  llm = Ollama(\n"
          ]
        }
      ]
    },
    {
      "cell_type": "code",
      "source": [
        "from langchain_huggingface import HuggingFaceEmbeddings\n",
        "from langchain.vectorstores import FAISS\n",
        "\n",
        "# Create embedder\n",
        "embedder = HuggingFaceEmbeddings(model_name=\"all-MiniLM-L6-v2\")\n",
        "\n",
        "# Create metadata list\n",
        "metadatas = [{\"parent_asin\": p[\"parent_asin\"]} for p in data]\n",
        "\n",
        "# Load vectorstore\n",
        "vectorstore = FAISS.load_local(\n",
        "    \"/content/drive/MyDrive/AmazonReviews/faiss_vectorstore\",\n",
        "    embeddings=embedder,\n",
        "    allow_dangerous_deserialization=True\n",
        ")\n",
        "\n",
        "# Load HNSW index\n",
        "vectorstore.index = faiss.read_index(\"/content/drive/MyDrive/AmazonReviews/products_hnsw.index\")\n",
        "\n",
        "print(\"Vectorstore reloaded with HNSW index.\")"
      ],
      "metadata": {
        "colab": {
          "base_uri": "https://localhost:8080/"
        },
        "id": "aq_Rf8atpiGi",
        "outputId": "1d0b319e-f07a-4758-9e72-39eb8a643ce4"
      },
      "execution_count": null,
      "outputs": [
        {
          "output_type": "stream",
          "name": "stderr",
          "text": [
            "/usr/local/lib/python3.11/dist-packages/huggingface_hub/utils/_auth.py:94: UserWarning: \n",
            "The secret `HF_TOKEN` does not exist in your Colab secrets.\n",
            "To authenticate with the Hugging Face Hub, create a token in your settings tab (https://huggingface.co/settings/tokens), set it as secret in your Google Colab and restart your session.\n",
            "You will be able to reuse this secret in all of your notebooks.\n",
            "Please note that authentication is recommended but still optional to access public models or datasets.\n",
            "  warnings.warn(\n"
          ]
        },
        {
          "output_type": "stream",
          "name": "stdout",
          "text": [
            "Vectorstore reloaded with HNSW index.\n"
          ]
        }
      ]
    },
    {
      "cell_type": "code",
      "source": [
        "from langchain.chains import RetrievalQA\n",
        "from langchain.prompts import PromptTemplate\n",
        "\n",
        "# 1. Ultra-Strict Prompt\n",
        "template = \"\"\"You are a product assistant. Your only job is to answer questions about products using the context provided below.\n",
        "Do not use any external knowledge, general information, or assumptions under any circumstances.\n",
        "If the context is empty, does not contain information directly relevant to the question, or if the question is not about products, respond EXACTLY with: \"I’m sorry, I can only assist with product-related queries.\"\n",
        "Do not elaborate, speculate, or provide any other response. ALWAYS PROVIDE CONCISE YET INFORMATIVE FOR PRODUCT QUERIES. If any response has \"As an AI model I do not have access\" then cut the response short and concise do not add Rules.\n",
        "\n",
        "\n",
        "Context:\n",
        "{context}\n",
        "\n",
        "Question:\n",
        "{question}\n",
        "\n",
        "Answer:\"\"\"\n",
        "\n",
        "prompt = PromptTemplate(\n",
        "    input_variables=[\"context\", \"question\"],\n",
        "    template=template\n",
        ")\n",
        "\n",
        "# 3. MMR Retriever\n",
        "retriever = vectorstore.as_retriever(search_type=\"mmr\", search_kwargs={\"k\": 7})\n",
        "\n",
        "# 4. QA Chain Setup\n",
        "qa_chain = RetrievalQA.from_chain_type(\n",
        "    llm=llm,\n",
        "    chain_type=\"stuff\",\n",
        "    retriever=retriever,\n",
        "    return_source_documents=True,\n",
        "    chain_type_kwargs={\"prompt\": prompt}\n",
        ")\n",
        "\n",
        "\n",
        "print(\"RetrievalQA chain is ready.\")"
      ],
      "metadata": {
        "colab": {
          "base_uri": "https://localhost:8080/"
        },
        "id": "h54i5CBIqqQK",
        "outputId": "c372b5e2-3e2f-4ce7-96b1-fb5f16cd16d1"
      },
      "execution_count": null,
      "outputs": [
        {
          "output_type": "stream",
          "name": "stdout",
          "text": [
            "RetrievalQA chain is ready.\n"
          ]
        }
      ]
    },
    {
      "cell_type": "code",
      "source": [
        "from sklearn.metrics.pairwise import cosine_similarity\n",
        "import numpy as np\n",
        "import re\n",
        "\n",
        "# Semantic relevance check\n",
        "def is_context_relevant(query, docs, embedding_model, threshold=0.5):\n",
        "    \"\"\"\n",
        "    Check if retrieved documents are semantically relevant to the query.\n",
        "    Uses cosine similarity between query and document embeddings.\n",
        "    \"\"\"\n",
        "    query_embedding = embedding_model.embed_query(query)\n",
        "    doc_embeddings = [embedding_model.embed_query(doc.page_content) for doc in docs]\n",
        "    similarities = cosine_similarity([query_embedding], doc_embeddings)[0]\n",
        "    return any(sim > threshold for sim in similarities)\n",
        "\n",
        "# Existing utility functions\n",
        "def preprocess_query(query):\n",
        "    query = re.sub(r'\\s+', ' ', query.strip()).lower()\n",
        "    return query\n",
        "\n",
        "def postprocess_response(response):\n",
        "    response = re.sub(r'\\n+', '\\n', response.strip())\n",
        "    response = re.sub(r'(\\d+)\\.\\s+', r'\\n\\1. ', response)\n",
        "    return response\n",
        "\n",
        "# Updated get_response\n",
        "def get_response(query, embedding_model):\n",
        "    query = preprocess_query(query)\n",
        "    docs = retriever.invoke(query)\n",
        "    print(\"Retrieved document snippets:\")\n",
        "    if not docs or not is_context_relevant(query, docs, embedding_model):\n",
        "        return \"I’m sorry, I can only assist with product-related queries.\"\n",
        "    result = qa_chain.invoke({\"query\": query})\n",
        "    return postprocess_response(result[\"result\"])\n",
        "\n",
        "print(\"get_response function with semantic relevance check is ready.\")"
      ],
      "metadata": {
        "colab": {
          "base_uri": "https://localhost:8080/"
        },
        "id": "ui7UU69skSWi",
        "outputId": "cd69fb08-834f-4df0-ec33-fdbdf1f4726d"
      },
      "execution_count": null,
      "outputs": [
        {
          "output_type": "stream",
          "name": "stdout",
          "text": [
            "get_response function with semantic relevance check is ready.\n"
          ]
        }
      ]
    },
    {
      "cell_type": "code",
      "source": [
        "# ── Cell 17: Test a Sample Query ───────────────────────────────────────────\n",
        "query = \"what are main features of ukulele\"\n",
        "response = get_response(query, embedding_model=embedder)\n",
        "'''\n",
        "print(\"Answer:\\n\", result[\"result\"])\n",
        "print(\"\\nRetrieved document snippets:\")\n",
        "for doc in result[\"source_documents\"]:\n",
        "    print(\"—\", doc.page_content[:200].replace(\"\\n\",\" \"), \"…\")\n",
        "'''\n",
        "print(\"\\nAnswer:\\n\", response)"
      ],
      "metadata": {
        "colab": {
          "base_uri": "https://localhost:8080/"
        },
        "id": "6aCQhBdLrO3C",
        "outputId": "ae4cc60a-8391-476a-efd4-8dcfb76d5199"
      },
      "execution_count": null,
      "outputs": [
        {
          "output_type": "stream",
          "name": "stdout",
          "text": [
            "Retrieved document snippets:\n",
            "\n",
            "Answer:\n",
            " The main features of a ukulele include its size (typically small and portable), the type of wood used for construction (such as basswood or rosewood), the number of strings (usually 4), and the tuning system (most commonly in fourths). Additionally, ukuleles often have decorative elements such as inlays, engravings, or unique finishes.\n"
          ]
        }
      ]
    },
    {
      "cell_type": "code",
      "source": [
        "from fastapi import FastAPI\n",
        "from fastapi.middleware.cors import CORSMiddleware\n",
        "from pydantic import BaseModel\n",
        "import uvicorn\n",
        "import nest_asyncio\n",
        "from pyngrok import ngrok\n",
        "\n",
        "nest_asyncio.apply()\n",
        "\n",
        "app = FastAPI()\n",
        "\n",
        "# Add CORS middleware\n",
        "app.add_middleware(\n",
        "    CORSMiddleware,\n",
        "    allow_origins=[\"*\"],  # Allows all origins for testing\n",
        "    allow_credentials=True,\n",
        "    allow_methods=[\"*\"],  # Allows POST, OPTIONS, etc.\n",
        "    allow_headers=[\"*\"],\n",
        ")\n",
        "\n",
        "class QueryRequest(BaseModel):\n",
        "    query: str\n",
        "\n",
        "@app.post(\"/query\")\n",
        "async def run_query(request: QueryRequest):\n",
        "    # Use get_response instead of qa_chain.invoke\n",
        "    response = get_response(request.query, embedding_model=embedder)\n",
        "    # Retrieve source documents for the response (if relevant)\n",
        "    return {\"answer\": response}\n",
        "\n",
        "ngrok.set_auth_token(\"2vyN7mQkF9ypLMOZ9GqcTPzS3DU_3D6Kwfx5VjAJiSFKx2NLs\")\n",
        "public_url = ngrok.connect(8000)\n",
        "print(f\"FastAPI Public URL: {public_url}\")\n",
        "\n",
        "uvicorn.run(app, host=\"0.0.0.0\", port=8000)"
      ],
      "metadata": {
        "colab": {
          "base_uri": "https://localhost:8080/"
        },
        "id": "cS1lB-7duf0t",
        "outputId": "172f3e9c-a8bb-41d9-ad86-160503f38500"
      },
      "execution_count": null,
      "outputs": [
        {
          "output_type": "stream",
          "name": "stderr",
          "text": [
            "INFO:     Started server process [16689]\n",
            "INFO:     Waiting for application startup.\n",
            "INFO:     Application startup complete.\n",
            "INFO:     Uvicorn running on http://0.0.0.0:8000 (Press CTRL+C to quit)\n"
          ]
        },
        {
          "output_type": "stream",
          "name": "stdout",
          "text": [
            "FastAPI Public URL: NgrokTunnel: \"https://1200-34-87-185-114.ngrok-free.app\" -> \"http://localhost:8000\"\n",
            "INFO:     66.71.35.72:0 - \"OPTIONS /query HTTP/1.1\" 200 OK\n",
            "Retrieved document snippets:\n",
            "INFO:     66.71.35.72:0 - \"POST /query HTTP/1.1\" 200 OK\n",
            "Retrieved document snippets:\n",
            "INFO:     66.71.35.72:0 - \"POST /query HTTP/1.1\" 200 OK\n",
            "Retrieved document snippets:\n",
            "INFO:     66.71.35.72:0 - \"POST /query HTTP/1.1\" 200 OK\n"
          ]
        }
      ]
    }
  ]
}